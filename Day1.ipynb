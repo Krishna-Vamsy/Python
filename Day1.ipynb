{
 "cells": [
  {
   "cell_type": "markdown",
   "id": "c7ab79ac-4fce-4348-b527-e3e703a1304c",
   "metadata": {},
   "source": [
    "### Python"
   ]
  },
  {
   "cell_type": "code",
   "execution_count": 1,
   "id": "6c887010-6096-422c-bf9a-f33413602ec3",
   "metadata": {},
   "outputs": [
    {
     "data": {
      "text/plain": [
       "'Hello World'"
      ]
     },
     "execution_count": 1,
     "metadata": {},
     "output_type": "execute_result"
    }
   ],
   "source": [
    "\"Hello World\""
   ]
  },
  {
   "cell_type": "code",
   "execution_count": 2,
   "id": "91ecbd12-8c08-49f7-9463-b3425115826c",
   "metadata": {},
   "outputs": [
    {
     "data": {
      "text/plain": [
       "int"
      ]
     },
     "execution_count": 2,
     "metadata": {},
     "output_type": "execute_result"
    }
   ],
   "source": [
    "type(197)"
   ]
  },
  {
   "cell_type": "code",
   "execution_count": 3,
   "id": "f92f0e55-260f-4748-9dc6-e547ece066eb",
   "metadata": {},
   "outputs": [
    {
     "data": {
      "text/plain": [
       "float"
      ]
     },
     "execution_count": 3,
     "metadata": {},
     "output_type": "execute_result"
    }
   ],
   "source": [
    "type(23.54)"
   ]
  },
  {
   "cell_type": "code",
   "execution_count": 4,
   "id": "58b5e322-9c3b-4317-8a9f-f63fa459a92c",
   "metadata": {},
   "outputs": [
    {
     "data": {
      "text/plain": [
       "str"
      ]
     },
     "execution_count": 4,
     "metadata": {},
     "output_type": "execute_result"
    }
   ],
   "source": [
    "type('hello')"
   ]
  },
  {
   "cell_type": "code",
   "execution_count": 31,
   "id": "ac471a66-e8df-490b-9034-c466bd6b103f",
   "metadata": {},
   "outputs": [
    {
     "data": {
      "text/plain": [
       "complex"
      ]
     },
     "execution_count": 31,
     "metadata": {},
     "output_type": "execute_result"
    }
   ],
   "source": [
    "type(5+3j)"
   ]
  },
  {
   "cell_type": "code",
   "execution_count": 32,
   "id": "aa3d9879-c879-4685-8890-7d8749c29477",
   "metadata": {},
   "outputs": [
    {
     "data": {
      "text/plain": [
       "bool"
      ]
     },
     "execution_count": 32,
     "metadata": {},
     "output_type": "execute_result"
    }
   ],
   "source": [
    "type(False)"
   ]
  },
  {
   "cell_type": "markdown",
   "id": "2e0fed15-fe9a-42af-96a1-fe90a6ac9e0a",
   "metadata": {},
   "source": [
    "#### Operators"
   ]
  },
  {
   "cell_type": "code",
   "execution_count": 5,
   "id": "be311d0d-fd58-41d9-a795-d8eab268d108",
   "metadata": {},
   "outputs": [],
   "source": [
    "x=10\n",
    "y=20"
   ]
  },
  {
   "cell_type": "code",
   "execution_count": 6,
   "id": "430c8894-435d-42ac-8350-da9c56518086",
   "metadata": {},
   "outputs": [
    {
     "data": {
      "text/plain": [
       "30"
      ]
     },
     "execution_count": 6,
     "metadata": {},
     "output_type": "execute_result"
    }
   ],
   "source": [
    "x+y"
   ]
  },
  {
   "cell_type": "code",
   "execution_count": 7,
   "id": "c05357cc-aa2b-4376-8644-7e3b60d59bc2",
   "metadata": {},
   "outputs": [
    {
     "data": {
      "text/plain": [
       "-10"
      ]
     },
     "execution_count": 7,
     "metadata": {},
     "output_type": "execute_result"
    }
   ],
   "source": [
    "x-y"
   ]
  },
  {
   "cell_type": "code",
   "execution_count": 8,
   "id": "bbbbe97e-972a-40b8-aaf6-c57e65fcf3e1",
   "metadata": {},
   "outputs": [
    {
     "data": {
      "text/plain": [
       "200"
      ]
     },
     "execution_count": 8,
     "metadata": {},
     "output_type": "execute_result"
    }
   ],
   "source": [
    "x*y"
   ]
  },
  {
   "cell_type": "code",
   "execution_count": 9,
   "id": "13ca0989-ba04-4218-ba4d-b86db525e5fb",
   "metadata": {},
   "outputs": [
    {
     "data": {
      "text/plain": [
       "0.5"
      ]
     },
     "execution_count": 9,
     "metadata": {},
     "output_type": "execute_result"
    }
   ],
   "source": [
    "x/y"
   ]
  },
  {
   "cell_type": "code",
   "execution_count": 10,
   "id": "303d3705-760d-444e-b5a5-9c22db346179",
   "metadata": {},
   "outputs": [
    {
     "data": {
      "text/plain": [
       "0"
      ]
     },
     "execution_count": 10,
     "metadata": {},
     "output_type": "execute_result"
    }
   ],
   "source": [
    "x//y"
   ]
  },
  {
   "cell_type": "code",
   "execution_count": 11,
   "id": "dd2ee358-b7cd-4158-8ccf-910a390f227c",
   "metadata": {},
   "outputs": [
    {
     "data": {
      "text/plain": [
       "100000000000000000000"
      ]
     },
     "execution_count": 11,
     "metadata": {},
     "output_type": "execute_result"
    }
   ],
   "source": [
    "x**y"
   ]
  },
  {
   "cell_type": "code",
   "execution_count": 12,
   "id": "979bc143-a285-4ff6-9d50-df2223098cfd",
   "metadata": {},
   "outputs": [
    {
     "data": {
      "text/plain": [
       "10"
      ]
     },
     "execution_count": 12,
     "metadata": {},
     "output_type": "execute_result"
    }
   ],
   "source": [
    "x%y"
   ]
  },
  {
   "cell_type": "code",
   "execution_count": 14,
   "id": "3e6d7887-f80e-4c83-b9b7-de9d23a4066c",
   "metadata": {},
   "outputs": [
    {
     "name": "stdin",
     "output_type": "stream",
     "text": [
      " Krishna Vamsy\n"
     ]
    }
   ],
   "source": [
    "name=input()"
   ]
  },
  {
   "cell_type": "code",
   "execution_count": 15,
   "id": "71bdba7e-788b-4a5f-91bd-2cfc4ea71bc8",
   "metadata": {},
   "outputs": [
    {
     "name": "stdout",
     "output_type": "stream",
     "text": [
      "Krishna Vamsy\n"
     ]
    }
   ],
   "source": [
    "print(name)"
   ]
  },
  {
   "cell_type": "code",
   "execution_count": 16,
   "id": "a183013f-4acf-4971-9620-30322b0a230a",
   "metadata": {},
   "outputs": [
    {
     "name": "stdout",
     "output_type": "stream",
     "text": [
      "I am Krishna Vamsy\n"
     ]
    }
   ],
   "source": [
    "print('I am '+name)"
   ]
  },
  {
   "cell_type": "code",
   "execution_count": 17,
   "id": "008e33c7-70da-4b86-949d-fcc5fd33f9c5",
   "metadata": {},
   "outputs": [
    {
     "data": {
      "text/plain": [
       "13"
      ]
     },
     "execution_count": 17,
     "metadata": {},
     "output_type": "execute_result"
    }
   ],
   "source": [
    "len(name)"
   ]
  },
  {
   "cell_type": "markdown",
   "id": "62837bcd-7cf3-48be-85a1-cbcda89c114f",
   "metadata": {},
   "source": [
    "#### Typecasting"
   ]
  },
  {
   "cell_type": "code",
   "execution_count": 18,
   "id": "f7b44f83-cb65-470a-8c05-4317fc11fb24",
   "metadata": {},
   "outputs": [],
   "source": [
    "x=100.76"
   ]
  },
  {
   "cell_type": "code",
   "execution_count": 19,
   "id": "43a285ef-af25-4449-ab21-2af8ce85fd01",
   "metadata": {},
   "outputs": [
    {
     "data": {
      "text/plain": [
       "100"
      ]
     },
     "execution_count": 19,
     "metadata": {},
     "output_type": "execute_result"
    }
   ],
   "source": [
    "int(x)"
   ]
  },
  {
   "cell_type": "code",
   "execution_count": 20,
   "id": "9d872f6f-3b57-4252-9a5e-1983376bdb85",
   "metadata": {},
   "outputs": [
    {
     "data": {
      "text/plain": [
       "'100.76'"
      ]
     },
     "execution_count": 20,
     "metadata": {},
     "output_type": "execute_result"
    }
   ],
   "source": [
    "str(x)"
   ]
  },
  {
   "cell_type": "code",
   "execution_count": 21,
   "id": "f0130f85-f9d6-4e14-8466-3d9eff067c81",
   "metadata": {},
   "outputs": [
    {
     "data": {
      "text/plain": [
       "100.76"
      ]
     },
     "execution_count": 21,
     "metadata": {},
     "output_type": "execute_result"
    }
   ],
   "source": [
    "float(x)"
   ]
  },
  {
   "cell_type": "markdown",
   "id": "1f70b773-23f0-42d0-921b-3ed50406b3c8",
   "metadata": {},
   "source": [
    "### PEMDAS"
   ]
  },
  {
   "cell_type": "code",
   "execution_count": 22,
   "id": "67b84fa1-2836-4036-8165-f85335cd0a4b",
   "metadata": {},
   "outputs": [
    {
     "data": {
      "text/plain": [
       "11"
      ]
     },
     "execution_count": 22,
     "metadata": {},
     "output_type": "execute_result"
    }
   ],
   "source": [
    "5+3*2"
   ]
  },
  {
   "cell_type": "code",
   "execution_count": 23,
   "id": "dff06c4f-e226-46ae-80b2-be3de0e854ff",
   "metadata": {},
   "outputs": [
    {
     "data": {
      "text/plain": [
       "16"
      ]
     },
     "execution_count": 23,
     "metadata": {},
     "output_type": "execute_result"
    }
   ],
   "source": [
    "(5+3)*2"
   ]
  },
  {
   "cell_type": "code",
   "execution_count": 24,
   "id": "955b74c5-ea79-4539-bb64-d67bf2ae87af",
   "metadata": {},
   "outputs": [
    {
     "data": {
      "text/plain": [
       "16.0"
      ]
     },
     "execution_count": 24,
     "metadata": {},
     "output_type": "execute_result"
    }
   ],
   "source": [
    "(5-1)*((7+1)/(3-1))"
   ]
  },
  {
   "cell_type": "markdown",
   "id": "d4410054-0d7d-4850-be17-9d690b3df4f7",
   "metadata": {},
   "source": [
    "### String Operations"
   ]
  },
  {
   "cell_type": "code",
   "execution_count": 25,
   "id": "a94ff733-b5f8-4f6a-8ac2-a89d60b2dc91",
   "metadata": {},
   "outputs": [],
   "source": [
    "name='vamsy'"
   ]
  },
  {
   "cell_type": "code",
   "execution_count": 26,
   "id": "462959b6-74cc-4a4a-9d76-4e2a31909f11",
   "metadata": {},
   "outputs": [
    {
     "data": {
      "text/plain": [
       "'vamsyvamsyvamsyvamsyvamsy'"
      ]
     },
     "execution_count": 26,
     "metadata": {},
     "output_type": "execute_result"
    }
   ],
   "source": [
    "name*5"
   ]
  },
  {
   "cell_type": "code",
   "execution_count": 27,
   "id": "6806163b-b5b0-47ce-86ca-70adb49cf7f3",
   "metadata": {},
   "outputs": [
    {
     "data": {
      "text/plain": [
       "'KrishnaVamsy'"
      ]
     },
     "execution_count": 27,
     "metadata": {},
     "output_type": "execute_result"
    }
   ],
   "source": [
    "'Krishna'+'Vamsy'"
   ]
  },
  {
   "cell_type": "code",
   "execution_count": 28,
   "id": "d7c213a7-1f32-4fed-bb24-30ac29aaad57",
   "metadata": {},
   "outputs": [
    {
     "name": "stdout",
     "output_type": "stream",
     "text": [
      "Where are you from?\n"
     ]
    },
    {
     "name": "stdin",
     "output_type": "stream",
     "text": [
      " Hyderabad\n"
     ]
    },
    {
     "name": "stdout",
     "output_type": "stream",
     "text": [
      "I am from Hyderabad\n"
     ]
    }
   ],
   "source": [
    "print(\"Where are you from?\")\n",
    "place=input()\n",
    "print(\"I am from \"+place)"
   ]
  },
  {
   "cell_type": "markdown",
   "id": "7eb5f729-b549-4b11-9e18-af612a32a442",
   "metadata": {},
   "source": [
    "### Comments"
   ]
  },
  {
   "cell_type": "code",
   "execution_count": 29,
   "id": "df668136-3cf0-4e62-b475-e350b9f26221",
   "metadata": {},
   "outputs": [],
   "source": [
    "# single line comment"
   ]
  },
  {
   "cell_type": "code",
   "execution_count": 30,
   "id": "d779edd6-78b3-437d-8645-6b470186ebdb",
   "metadata": {},
   "outputs": [],
   "source": [
    "#Triple quote(\"\"\" \"\"\") or (''' ''') is used to print multiple lines"
   ]
  },
  {
   "cell_type": "code",
   "execution_count": 33,
   "id": "63f85ccd-5124-4af9-9b6e-f4cfd31d1177",
   "metadata": {},
   "outputs": [
    {
     "data": {
      "text/plain": [
       "'Krishna'"
      ]
     },
     "execution_count": 33,
     "metadata": {},
     "output_type": "execute_result"
    }
   ],
   "source": [
    "a=\"Krishna Vamsy\"\n",
    "a[0:7]"
   ]
  },
  {
   "cell_type": "code",
   "execution_count": null,
   "id": "cef6f464-6a94-4e25-8b6f-8be6790554f2",
   "metadata": {},
   "outputs": [],
   "source": []
  }
 ],
 "metadata": {
  "kernelspec": {
   "display_name": "Python 3 (ipykernel)",
   "language": "python",
   "name": "python3"
  },
  "language_info": {
   "codemirror_mode": {
    "name": "ipython",
    "version": 3
   },
   "file_extension": ".py",
   "mimetype": "text/x-python",
   "name": "python",
   "nbconvert_exporter": "python",
   "pygments_lexer": "ipython3",
   "version": "3.11.7"
  }
 },
 "nbformat": 4,
 "nbformat_minor": 5
}
