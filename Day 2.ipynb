{
 "cells": [
  {
   "cell_type": "code",
   "execution_count": 2,
   "id": "91fa03c5-bf46-476b-8ace-f140a6418074",
   "metadata": {},
   "outputs": [
    {
     "name": "stdin",
     "output_type": "stream",
     "text": [
      " 2.456\n"
     ]
    }
   ],
   "source": [
    "x=float(input())"
   ]
  },
  {
   "cell_type": "code",
   "execution_count": 3,
   "id": "a731ff7a-69d7-44b3-9aba-5b7e8ea7e1c5",
   "metadata": {},
   "outputs": [
    {
     "data": {
      "text/plain": [
       "5.658746"
      ]
     },
     "execution_count": 3,
     "metadata": {},
     "output_type": "execute_result"
    }
   ],
   "source": [
    "x\n"
   ]
  },
  {
   "cell_type": "code",
   "execution_count": 3,
   "id": "1bd8d9e9-48e3-427d-b384-6bcd5822d6de",
   "metadata": {},
   "outputs": [
    {
     "data": {
      "text/plain": [
       "2.456"
      ]
     },
     "execution_count": 3,
     "metadata": {},
     "output_type": "execute_result"
    }
   ],
   "source": [
    "round(x,3)"
   ]
  },
  {
   "cell_type": "code",
   "execution_count": 4,
   "id": "29239a5a-6a4e-467a-a7a0-5d2ce01db50a",
   "metadata": {},
   "outputs": [
    {
     "data": {
      "text/plain": [
       "2.46"
      ]
     },
     "execution_count": 4,
     "metadata": {},
     "output_type": "execute_result"
    }
   ],
   "source": [
    "round(x,2)\n"
   ]
  },
  {
   "cell_type": "code",
   "execution_count": 6,
   "id": "b629b521-06b5-4520-8fb8-f604d4fc1f8e",
   "metadata": {},
   "outputs": [
    {
     "name": "stdin",
     "output_type": "stream",
     "text": [
      "Enter your name:  Krishna\n",
      "Enter your gender:  M\n",
      "Enter your CGPA:  8.5\n"
     ]
    },
    {
     "name": "stdout",
     "output_type": "stream",
     "text": [
      "You have entered your name asKrishna\n",
      "Your gender is  M\n",
      "You have a cgpa  8.5\n"
     ]
    }
   ],
   "source": [
    "name=input(\"Enter your name: \")\n",
    "gender=input(\"Enter your gender: \")\n",
    "cgpa=float(input(\"Enter your CGPA: \"))\n",
    "print(\"You have entered your name as\" +name)\n",
    "print(\"Your gender is \",gender)\n",
    "print(\"You have a cgpa \",cgpa)"
   ]
  },
  {
   "cell_type": "markdown",
   "id": "3ce42d9e-44d9-4a64-bebe-66a9a253c042",
   "metadata": {},
   "source": [
    "### using math library"
   ]
  },
  {
   "cell_type": "code",
   "execution_count": 12,
   "id": "8f43558f-df9b-4814-904a-c9306513b5e5",
   "metadata": {},
   "outputs": [],
   "source": [
    "import math "
   ]
  },
  {
   "cell_type": "code",
   "execution_count": 13,
   "id": "90d40df4-1477-4d7c-bf0d-1492b0b8b058",
   "metadata": {},
   "outputs": [
    {
     "data": {
      "text/plain": [
       "720"
      ]
     },
     "execution_count": 13,
     "metadata": {},
     "output_type": "execute_result"
    }
   ],
   "source": [
    "math.factorial(6)"
   ]
  },
  {
   "cell_type": "code",
   "execution_count": 14,
   "id": "1c65a308-1246-4c8b-9e93-09d2cee76ff2",
   "metadata": {},
   "outputs": [
    {
     "data": {
      "text/plain": [
       "9.0"
      ]
     },
     "execution_count": 14,
     "metadata": {},
     "output_type": "execute_result"
    }
   ],
   "source": [
    "math.sqrt(81)\n"
   ]
  },
  {
   "cell_type": "code",
   "execution_count": 15,
   "id": "2962f1bc-ee41-405c-85d9-715ba28cd3c2",
   "metadata": {},
   "outputs": [
    {
     "data": {
      "text/plain": [
       "5"
      ]
     },
     "execution_count": 15,
     "metadata": {},
     "output_type": "execute_result"
    }
   ],
   "source": [
    "math.floor(5.5)"
   ]
  },
  {
   "cell_type": "code",
   "execution_count": 16,
   "id": "9269b84c-9104-46e9-8359-6d40d4705ad5",
   "metadata": {},
   "outputs": [
    {
     "data": {
      "text/plain": [
       "46"
      ]
     },
     "execution_count": 16,
     "metadata": {},
     "output_type": "execute_result"
    }
   ],
   "source": [
    "math.ceil(45.7)"
   ]
  },
  {
   "cell_type": "code",
   "execution_count": 17,
   "id": "e40a6db8-0463-43ce-a218-3aca45f9d8bc",
   "metadata": {},
   "outputs": [],
   "source": [
    "#ceil gives next decimal value and floor gives base value  "
   ]
  },
  {
   "cell_type": "markdown",
   "id": "cf57c6cd-c498-4a62-8442-83cabd80c234",
   "metadata": {},
   "source": [
    "### Conditional Statements "
   ]
  },
  {
   "cell_type": "code",
   "execution_count": 18,
   "id": "4960fa73-e2a6-4f52-aaf7-c345204d7600",
   "metadata": {},
   "outputs": [
    {
     "name": "stdout",
     "output_type": "stream",
     "text": [
      "b is greater\n"
     ]
    }
   ],
   "source": [
    "a=10\n",
    "b=20\n",
    "if a>b:\n",
    "    print(\"a is greater\")\n",
    "else:\n",
    "    print(\"b is greater\")\n",
    "    "
   ]
  },
  {
   "cell_type": "code",
   "execution_count": 19,
   "id": "071188ac-6a1d-42ce-8b81-9667a720a5f9",
   "metadata": {},
   "outputs": [
    {
     "name": "stdout",
     "output_type": "stream",
     "text": [
      "both are different\n"
     ]
    }
   ],
   "source": [
    "a=10\n",
    "b=20\n",
    "if a==b:\n",
    "    print(\"both are equal\")\n",
    "else:\n",
    "    print(\"both are different\")"
   ]
  },
  {
   "cell_type": "code",
   "execution_count": 20,
   "id": "d0636f0f-9275-4252-a95c-48ac7e31e38d",
   "metadata": {},
   "outputs": [
    {
     "name": "stdin",
     "output_type": "stream",
     "text": [
      "Enter any number :  1\n"
     ]
    },
    {
     "name": "stdout",
     "output_type": "stream",
     "text": [
      "Positive\n"
     ]
    }
   ],
   "source": [
    "num=int(input(\"Enter any number : \"))\n",
    "if num==0:\n",
    "    print(\"Neutral\")\n",
    "elif num>0:       #else if is written as elif in python\n",
    "    print(\"Positive\")\n",
    "else:\n",
    "    print(\"Negative\")"
   ]
  },
  {
   "cell_type": "code",
   "execution_count": 21,
   "id": "b972e228-28ce-4fe9-8155-8dd1ae82c2b6",
   "metadata": {},
   "outputs": [
    {
     "name": "stdout",
     "output_type": "stream",
     "text": [
      "K\n",
      "r\n",
      "i\n",
      "s\n",
      "h\n",
      "n\n",
      "a\n"
     ]
    }
   ],
   "source": [
    "for i in \"Krishna\":\n",
    "    print(i)"
   ]
  },
  {
   "cell_type": "code",
   "execution_count": 22,
   "id": "f2139704-ac20-4bfa-b495-36f6836606eb",
   "metadata": {},
   "outputs": [
    {
     "name": "stdout",
     "output_type": "stream",
     "text": [
      "0\n",
      "1\n",
      "2\n",
      "3\n",
      "4\n",
      "5\n",
      "6\n",
      "7\n",
      "8\n",
      "9\n"
     ]
    }
   ],
   "source": [
    "for i in range(10):\n",
    "    print(i)"
   ]
  },
  {
   "cell_type": "code",
   "execution_count": 23,
   "id": "bcce2d4c-961a-459a-9e06-081d9290d1bb",
   "metadata": {},
   "outputs": [
    {
     "name": "stdout",
     "output_type": "stream",
     "text": [
      "10\n",
      "11\n",
      "12\n",
      "13\n",
      "14\n",
      "15\n",
      "16\n",
      "17\n",
      "18\n",
      "19\n"
     ]
    }
   ],
   "source": [
    "for i in range(10,20):\n",
    "    print(i)"
   ]
  },
  {
   "cell_type": "code",
   "execution_count": 24,
   "id": "08c7b6b9-46e8-4916-9d86-173602477ed6",
   "metadata": {},
   "outputs": [
    {
     "name": "stdout",
     "output_type": "stream",
     "text": [
      "10 ,11 ,12 ,13 ,14 ,15 ,16 ,17 ,18 ,19 ,"
     ]
    }
   ],
   "source": [
    "for i in range(10,20):\n",
    "    print(i,end=\" ,\")"
   ]
  },
  {
   "cell_type": "code",
   "execution_count": 25,
   "id": "7a70b4f7-8558-48cf-a7e8-03328a292d77",
   "metadata": {},
   "outputs": [
    {
     "name": "stdout",
     "output_type": "stream",
     "text": [
      "1\n",
      "4\n",
      "7\n"
     ]
    }
   ],
   "source": [
    "for i in range(1,10,3):\n",
    "    print(i)"
   ]
  },
  {
   "cell_type": "code",
   "execution_count": 28,
   "id": "63aadd22-2d39-4ea7-acd3-581ba49d908d",
   "metadata": {},
   "outputs": [
    {
     "name": "stdout",
     "output_type": "stream",
     "text": [
      "1\n",
      "2\n",
      "3\n",
      "4\n",
      "5\n"
     ]
    }
   ],
   "source": [
    "i=1\n",
    "while i<6:\n",
    "    print(i)\n",
    "    i+=1"
   ]
  },
  {
   "cell_type": "code",
   "execution_count": 29,
   "id": "77de1b91-ad0d-4bf4-8234-fb7668555f5e",
   "metadata": {},
   "outputs": [
    {
     "name": "stdout",
     "output_type": "stream",
     "text": [
      "1\n",
      "2\n",
      "3\n"
     ]
    }
   ],
   "source": [
    "i=1\n",
    "while i<6:\n",
    "    print(i)\n",
    "    if i==3:\n",
    "        break\n",
    "    i+=1"
   ]
  },
  {
   "cell_type": "code",
   "execution_count": 1,
   "id": "9eb48c71-b853-4dae-9b0d-4ed01420a989",
   "metadata": {},
   "outputs": [
    {
     "name": "stdout",
     "output_type": "stream",
     "text": [
      "2\n",
      "4\n",
      "5\n",
      "6\n"
     ]
    }
   ],
   "source": [
    "i=1\n",
    "while i<6:\n",
    "    i+=1\n",
    "    if i==3:\n",
    "        continue\n",
    "    print(i)\n",
    "        \n",
    "    "
   ]
  },
  {
   "cell_type": "code",
   "execution_count": 3,
   "id": "47d3f93c-ef40-4c5e-8832-0f956129ba70",
   "metadata": {},
   "outputs": [
    {
     "name": "stdout",
     "output_type": "stream",
     "text": [
      "6\n",
      "28\n",
      "496\n",
      "8128\n"
     ]
    }
   ],
   "source": [
    "# perfect number\n",
    "num=1\n",
    "while num<=10000:\n",
    "    s=0\n",
    "    for i in range(1,num):\n",
    "        if num%i==0:\n",
    "            s+=i\n",
    "    if num==s:\n",
    "        print(num)\n",
    "    num=num+1"
   ]
  },
  {
   "cell_type": "markdown",
   "id": "26d957bc-36ef-4d6c-a830-84cdd729774c",
   "metadata": {},
   "source": [
    "### lists"
   ]
  },
  {
   "cell_type": "code",
   "execution_count": 4,
   "id": "eaf91274-2f41-4da8-8f01-b330838ce4fe",
   "metadata": {},
   "outputs": [],
   "source": [
    "list=[\"apple\",\"mango\",\"banana\"]"
   ]
  },
  {
   "cell_type": "code",
   "execution_count": 5,
   "id": "e8b06789-77ae-4dad-a3db-45f5695bdf00",
   "metadata": {},
   "outputs": [
    {
     "name": "stdout",
     "output_type": "stream",
     "text": [
      "['apple', 'mango', 'banana']\n"
     ]
    }
   ],
   "source": [
    "print(list)"
   ]
  },
  {
   "cell_type": "code",
   "execution_count": 8,
   "id": "d1c2a314-77ef-46ef-ab5b-9ac69c518673",
   "metadata": {},
   "outputs": [],
   "source": [
    "list=[\"apple \",8,\"banana \"]"
   ]
  },
  {
   "cell_type": "code",
   "execution_count": 9,
   "id": "fdc49828-6605-45d3-9b93-81c9828f2cdf",
   "metadata": {},
   "outputs": [
    {
     "name": "stdout",
     "output_type": "stream",
     "text": [
      "['apple ', 8, 'banana ']\n"
     ]
    }
   ],
   "source": [
    "print(list)"
   ]
  },
  {
   "cell_type": "code",
   "execution_count": 10,
   "id": "d48eb913-ce66-4ba8-bce5-05f185216a7b",
   "metadata": {},
   "outputs": [
    {
     "data": {
      "text/plain": [
       "list"
      ]
     },
     "execution_count": 10,
     "metadata": {},
     "output_type": "execute_result"
    }
   ],
   "source": [
    "type(list)\n"
   ]
  },
  {
   "cell_type": "code",
   "execution_count": 11,
   "id": "3abd8777-3803-416f-bfcf-a16fb3e9348e",
   "metadata": {},
   "outputs": [
    {
     "name": "stdout",
     "output_type": "stream",
     "text": [
      "3\n"
     ]
    }
   ],
   "source": [
    "print(len(list))"
   ]
  },
  {
   "cell_type": "code",
   "execution_count": 12,
   "id": "6f0938d4-568d-4cd6-8609-af1031fe612a",
   "metadata": {},
   "outputs": [],
   "source": [
    "list.append(\"laxmi\")"
   ]
  },
  {
   "cell_type": "code",
   "execution_count": 13,
   "id": "c553f9d3-e1f9-49d2-ba0e-ce1d2d2a9c64",
   "metadata": {},
   "outputs": [
    {
     "name": "stdout",
     "output_type": "stream",
     "text": [
      "['apple ', 8, 'banana ', 'laxmi']\n"
     ]
    }
   ],
   "source": [
    "print(list)"
   ]
  },
  {
   "cell_type": "code",
   "execution_count": 14,
   "id": "6559528a-844e-4fe8-91d1-3170018c46ac",
   "metadata": {},
   "outputs": [],
   "source": [
    "list.insert(1,\"books\")"
   ]
  },
  {
   "cell_type": "code",
   "execution_count": 15,
   "id": "30de2a66-b871-4ff1-8f5a-239b2f38ab5b",
   "metadata": {},
   "outputs": [
    {
     "name": "stdout",
     "output_type": "stream",
     "text": [
      "['apple ', 'books', 8, 'banana ', 'laxmi']\n"
     ]
    }
   ],
   "source": [
    "print(list)"
   ]
  },
  {
   "cell_type": "code",
   "execution_count": 16,
   "id": "6bcf90d9-cbdf-4ef7-8130-5cf25f569448",
   "metadata": {},
   "outputs": [],
   "source": [
    "list.remove(\"laxmi\")"
   ]
  },
  {
   "cell_type": "code",
   "execution_count": 17,
   "id": "555a0021-414c-41ec-a60b-7f67cf387cdf",
   "metadata": {},
   "outputs": [
    {
     "name": "stdout",
     "output_type": "stream",
     "text": [
      "['apple ', 'books', 8, 'banana ']\n"
     ]
    }
   ],
   "source": [
    "print(list)"
   ]
  },
  {
   "cell_type": "code",
   "execution_count": 18,
   "id": "63c13e2a-8860-4aa9-8710-7c93f0564f60",
   "metadata": {},
   "outputs": [
    {
     "data": {
      "text/plain": [
       "8"
      ]
     },
     "execution_count": 18,
     "metadata": {},
     "output_type": "execute_result"
    }
   ],
   "source": [
    "list.pop(2)\n"
   ]
  },
  {
   "cell_type": "code",
   "execution_count": 19,
   "id": "1bbfca90-5e69-4040-b0ec-cb403da621e1",
   "metadata": {},
   "outputs": [
    {
     "name": "stdout",
     "output_type": "stream",
     "text": [
      "['apple ', 'books', 'banana ']\n"
     ]
    }
   ],
   "source": [
    "print(list)"
   ]
  },
  {
   "cell_type": "code",
   "execution_count": 20,
   "id": "cbb9385d-aca5-4fd0-8955-24a2d17484c3",
   "metadata": {},
   "outputs": [],
   "source": [
    "list.clear()\n"
   ]
  },
  {
   "cell_type": "code",
   "execution_count": 21,
   "id": "da2bc52c-f951-4fe2-aa28-05379cfd24cb",
   "metadata": {},
   "outputs": [
    {
     "name": "stdout",
     "output_type": "stream",
     "text": [
      "[]\n"
     ]
    }
   ],
   "source": [
    "print(list)"
   ]
  },
  {
   "cell_type": "code",
   "execution_count": 22,
   "id": "47996ce4-345c-46fc-955c-7fa8c614344b",
   "metadata": {},
   "outputs": [
    {
     "name": "stdout",
     "output_type": "stream",
     "text": [
      "['banana', 'kiwi', 'mango', 'orange', 'pineapple']\n"
     ]
    }
   ],
   "source": [
    "thislist = [\"orange\", \"mango\", \"kiwi\", \"pineapple\", \"banana\"]\n",
    "thislist.sort()\n",
    "print(thislist)"
   ]
  },
  {
   "cell_type": "code",
   "execution_count": 23,
   "id": "fcf76af5-8ec3-4870-93ba-0bb5dfa79a4b",
   "metadata": {},
   "outputs": [
    {
     "name": "stdout",
     "output_type": "stream",
     "text": [
      "['pineapple', 'orange', 'mango', 'kiwi', 'banana']\n"
     ]
    }
   ],
   "source": [
    "thislist = [\"orange\", \"mango\", \"kiwi\", \"pineapple\", \"banana\"]\n",
    "thislist.sort(reverse=True)\n",
    "print(thislist)"
   ]
  },
  {
   "cell_type": "markdown",
   "id": "7ca349fa-d898-40a8-ba4a-e9aa060ceb65",
   "metadata": {},
   "source": [
    "### tuples"
   ]
  },
  {
   "cell_type": "code",
   "execution_count": 25,
   "id": "13bbb7ac-b71d-43f4-99c8-fdef4f7c4d67",
   "metadata": {},
   "outputs": [],
   "source": [
    "tuple=(\"apple\",\"banana\",\"mango\")"
   ]
  },
  {
   "cell_type": "code",
   "execution_count": 26,
   "id": "9ed37ec4-a865-4748-aa11-e85200b7f466",
   "metadata": {},
   "outputs": [
    {
     "name": "stdout",
     "output_type": "stream",
     "text": [
      "('apple', 'banana', 'mango')\n"
     ]
    }
   ],
   "source": [
    "print(tuple)"
   ]
  },
  {
   "cell_type": "code",
   "execution_count": 27,
   "id": "b1050e32-995d-40e9-880f-556cd6f4e057",
   "metadata": {},
   "outputs": [
    {
     "name": "stdout",
     "output_type": "stream",
     "text": [
      "3\n"
     ]
    }
   ],
   "source": [
    "print(len(tuple))"
   ]
  },
  {
   "cell_type": "code",
   "execution_count": 28,
   "id": "80b52500-40a2-42e0-985a-a93a9a1b69c2",
   "metadata": {},
   "outputs": [
    {
     "name": "stdout",
     "output_type": "stream",
     "text": [
      "banana\n"
     ]
    }
   ],
   "source": [
    "print(tuple[1])"
   ]
  },
  {
   "cell_type": "code",
   "execution_count": 29,
   "id": "b5aadaf2-7941-4921-9868-99bfdb534796",
   "metadata": {},
   "outputs": [
    {
     "name": "stdout",
     "output_type": "stream",
     "text": [
      "('cherry', 'orange', 'kiwi')\n"
     ]
    }
   ],
   "source": [
    "thistuple = (\"apple\", \"banana\", \"cherry\", \"orange\", \"kiwi\", \"melon\", \"mango\")\n",
    "print(thistuple[2:5])"
   ]
  },
  {
   "cell_type": "code",
   "execution_count": 32,
   "id": "e6978bcd-7415-41ad-b7a6-48119060be7d",
   "metadata": {},
   "outputs": [
    {
     "name": "stdout",
     "output_type": "stream",
     "text": [
      "('apple', 'banana', 'cherry', 'orange', 'kiwi')\n"
     ]
    }
   ],
   "source": [
    "thistuple = (\"apple\", \"banana\", \"cherry\", \"orange\", \"kiwi\", \"melon\", \"mango\")\n",
    "print(thistuple[:5])"
   ]
  },
  {
   "cell_type": "code",
   "execution_count": 35,
   "id": "f854487e-4b13-47a4-a7b7-bf1c720604f6",
   "metadata": {},
   "outputs": [],
   "source": [
    "### Write a Python program that takes a list of integers as input and returns the sum of all the even numbers in the list.\n",
    "### The program should handle both positive and negative integers and should return 0 if there are no even numbers in the list."
   ]
  },
  {
   "cell_type": "code",
   "execution_count": 37,
   "id": "a4668ccb-f295-4ed8-bf48-fb1c4e5884dd",
   "metadata": {},
   "outputs": [
    {
     "name": "stdin",
     "output_type": "stream",
     "text": [
      "Enter the number of integers:  5\n",
      " 6\n",
      " 1\n",
      " 8\n",
      " 3\n",
      " 4\n"
     ]
    },
    {
     "name": "stdout",
     "output_type": "stream",
     "text": [
      "18\n"
     ]
    }
   ],
   "source": [
    "n=int(input(\"Enter the number of integers: \"))\n",
    "numbers=[]\n",
    "for i in range(n):\n",
    "    num=int(input())\n",
    "    numbers.append(num)\n",
    "even_sum = 0\n",
    "for num in numbers:\n",
    "    if num%2==0:\n",
    "        even_sum+=num\n",
    "print(even_sum)"
   ]
  },
  {
   "cell_type": "code",
   "execution_count": null,
   "id": "dc7575c6-e109-4e55-a210-2541f17ea05f",
   "metadata": {},
   "outputs": [],
   "source": []
  }
 ],
 "metadata": {
  "kernelspec": {
   "display_name": "Python 3 (ipykernel)",
   "language": "python",
   "name": "python3"
  },
  "language_info": {
   "codemirror_mode": {
    "name": "ipython",
    "version": 3
   },
   "file_extension": ".py",
   "mimetype": "text/x-python",
   "name": "python",
   "nbconvert_exporter": "python",
   "pygments_lexer": "ipython3",
   "version": "3.11.7"
  }
 },
 "nbformat": 4,
 "nbformat_minor": 5
}
