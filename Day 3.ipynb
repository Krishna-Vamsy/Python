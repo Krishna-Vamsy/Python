{
 "cells": [
  {
   "cell_type": "markdown",
   "id": "9a66aaf1-a20b-4e7d-bfe5-370ef9495b93",
   "metadata": {},
   "source": [
    "### Sets"
   ]
  },
  {
   "cell_type": "code",
   "execution_count": 1,
   "id": "9a2eb32b-6622-4280-9296-6dfdcb0e7402",
   "metadata": {},
   "outputs": [
    {
     "name": "stdout",
     "output_type": "stream",
     "text": [
      "{1, 2, 'hello', 'Vamsy'}\n"
     ]
    }
   ],
   "source": [
    "myset=set([1,2,'hello','Vamsy'])\n",
    "print(myset)"
   ]
  },
  {
   "cell_type": "code",
   "execution_count": 3,
   "id": "d8433008-b09d-41fc-91c0-be173fd53164",
   "metadata": {},
   "outputs": [
    {
     "name": "stdout",
     "output_type": "stream",
     "text": [
      "1\n",
      "2\n",
      "hello\n",
      "Vamsy\n"
     ]
    }
   ],
   "source": [
    "for i in myset:\n",
    "    print(i)"
   ]
  },
  {
   "cell_type": "code",
   "execution_count": 4,
   "id": "d099e2aa-931f-4b78-9376-f62918a4cc9c",
   "metadata": {},
   "outputs": [
    {
     "data": {
      "text/plain": [
       "True"
      ]
     },
     "execution_count": 4,
     "metadata": {},
     "output_type": "execute_result"
    }
   ],
   "source": [
    "'hello' in myset"
   ]
  },
  {
   "cell_type": "code",
   "execution_count": 5,
   "id": "37987cc6-83e3-43b7-9680-d250bc65c3f4",
   "metadata": {},
   "outputs": [
    {
     "data": {
      "text/plain": [
       "False"
      ]
     },
     "execution_count": 5,
     "metadata": {},
     "output_type": "execute_result"
    }
   ],
   "source": [
    "'world' in myset"
   ]
  },
  {
   "cell_type": "code",
   "execution_count": 6,
   "id": "50f210fe-8ce7-4736-adc6-2614a3f90bc5",
   "metadata": {},
   "outputs": [
    {
     "data": {
      "text/plain": [
       "4"
      ]
     },
     "execution_count": 6,
     "metadata": {},
     "output_type": "execute_result"
    }
   ],
   "source": [
    "len(myset)"
   ]
  },
  {
   "cell_type": "code",
   "execution_count": 7,
   "id": "65402237-4e7a-4df9-ba65-691aa98a4440",
   "metadata": {},
   "outputs": [
    {
     "data": {
      "text/plain": [
       "set"
      ]
     },
     "execution_count": 7,
     "metadata": {},
     "output_type": "execute_result"
    }
   ],
   "source": [
    "type(myset)"
   ]
  },
  {
   "cell_type": "code",
   "execution_count": 8,
   "id": "4d3ebf81-a701-482b-afbd-5bc681ea8c33",
   "metadata": {},
   "outputs": [
    {
     "name": "stdout",
     "output_type": "stream",
     "text": [
      "{1, 2, 'Vamsy', 'Krishna', 'hello'}\n"
     ]
    }
   ],
   "source": [
    "myset.add(\"Krishna\")\n",
    "print(myset)"
   ]
  },
  {
   "cell_type": "code",
   "execution_count": 20,
   "id": "bc4fa916-5686-4efd-bd06-48f321005ae3",
   "metadata": {},
   "outputs": [
    {
     "name": "stdout",
     "output_type": "stream",
     "text": [
      "{'brown', 'black', 'green'}\n",
      "\n",
      "{'brown', True, 'black', 'green'}\n",
      "\n",
      "Length of my set is  4\n",
      "\n",
      "{True, 'brown', 'green', 'black', 21}\n",
      "\n",
      "<class 'set'>\n",
      "\n",
      "True brown green black 21 \n",
      "True\n",
      "\n",
      "False\n",
      "\n",
      "{True, 'lavender', 'brown', 'white', 'green', 'black', 21}\n",
      "\n",
      "{True, 'lavender', 'white', 'green', 'black', 21}\n",
      "\n",
      "set()\n"
     ]
    }
   ],
   "source": [
    "set1={\"green\",\"brown\",\"black\"}\n",
    "print(set1)\n",
    "print()\n",
    "set1.add(True)\n",
    "print(set1)\n",
    "print()\n",
    "print(\"Length of my set is \",len(set1))\n",
    "print()\n",
    "set1.add(21)\n",
    "print(set1)\n",
    "print()\n",
    "print(type(set1))\n",
    "print()\n",
    "for i in set1:\n",
    "    print(i,end=\" \")\n",
    "print()\n",
    "print(\"brown\" in set1)\n",
    "print()\n",
    "print(\"yellow\" in set1)\n",
    "print()\n",
    "\n",
    "list=[\"lavender\",\"white\"]\n",
    "set1.update(list)\n",
    "print(set1)\n",
    "print()\n",
    "\n",
    "set1.remove(\"brown\")\n",
    "print(set1)\n",
    "print()\n",
    "set1.clear()\n",
    "print(set1)"
   ]
  },
  {
   "cell_type": "markdown",
   "id": "10291cdf-30c4-414b-bddc-9b247d1044dd",
   "metadata": {},
   "source": [
    "### Dictionaries"
   ]
  },
  {
   "cell_type": "code",
   "execution_count": 22,
   "id": "a6e9354c-561a-4ade-9bc5-8429e5de0a9c",
   "metadata": {},
   "outputs": [
    {
     "data": {
      "text/plain": [
       "dict"
      ]
     },
     "execution_count": 22,
     "metadata": {},
     "output_type": "execute_result"
    }
   ],
   "source": [
    "a={}\n",
    "type(a)"
   ]
  },
  {
   "cell_type": "code",
   "execution_count": 23,
   "id": "312a9bb9-a8f5-405e-92af-17a03acc820c",
   "metadata": {},
   "outputs": [
    {
     "data": {
      "text/plain": [
       "{'name': 'Krishna Vamsy'}"
      ]
     },
     "execution_count": 23,
     "metadata": {},
     "output_type": "execute_result"
    }
   ],
   "source": [
    "a['name']=\"Krishna Vamsy\"\n",
    "a"
   ]
  },
  {
   "cell_type": "code",
   "execution_count": 24,
   "id": "41824172-92f4-45fc-85ae-4e7315dd1573",
   "metadata": {},
   "outputs": [
    {
     "data": {
      "text/plain": [
       "{'name': 'Krishna Vamsy', 'gender': 'Male'}"
      ]
     },
     "execution_count": 24,
     "metadata": {},
     "output_type": "execute_result"
    }
   ],
   "source": [
    "a['gender']=\"Male\"\n",
    "a"
   ]
  },
  {
   "cell_type": "code",
   "execution_count": 25,
   "id": "8f5dec4e-aa6f-4ee2-9598-82b5cc57cdc8",
   "metadata": {},
   "outputs": [],
   "source": [
    "b={\"name\":\"Vamsy\", \"age\":19, \"CGPA\":8.15}"
   ]
  },
  {
   "cell_type": "code",
   "execution_count": 26,
   "id": "ac74ca1f-a92d-4c8e-9235-004c78a988d9",
   "metadata": {},
   "outputs": [
    {
     "data": {
      "text/plain": [
       "{'name': 'Vamsy', 'age': 19, 'CGPA': 8.15}"
      ]
     },
     "execution_count": 26,
     "metadata": {},
     "output_type": "execute_result"
    }
   ],
   "source": [
    "b"
   ]
  },
  {
   "cell_type": "code",
   "execution_count": 28,
   "id": "c07538f1-c53a-4c3f-a4e7-a7953eb123b1",
   "metadata": {},
   "outputs": [
    {
     "data": {
      "text/plain": [
       "'Vamsy'"
      ]
     },
     "execution_count": 28,
     "metadata": {},
     "output_type": "execute_result"
    }
   ],
   "source": [
    "b.get(\"name\")"
   ]
  },
  {
   "cell_type": "code",
   "execution_count": 29,
   "id": "d704d75d-52c8-4586-86e3-0b5adedc8d48",
   "metadata": {},
   "outputs": [
    {
     "data": {
      "text/plain": [
       "dict_items([('name', 'Vamsy'), ('age', 19), ('CGPA', 8.15)])"
      ]
     },
     "execution_count": 29,
     "metadata": {},
     "output_type": "execute_result"
    }
   ],
   "source": [
    "b.items()"
   ]
  },
  {
   "cell_type": "code",
   "execution_count": 30,
   "id": "6198cf51-4a4e-4608-8064-a4530dcd1669",
   "metadata": {},
   "outputs": [
    {
     "name": "stdout",
     "output_type": "stream",
     "text": [
      "name\n",
      "age\n",
      "CGPA\n"
     ]
    }
   ],
   "source": [
    "for i in b:\n",
    "    print(i)"
   ]
  },
  {
   "cell_type": "code",
   "execution_count": 31,
   "id": "5b831328-dd5c-4aaf-91f6-c725fb452b67",
   "metadata": {},
   "outputs": [
    {
     "name": "stdout",
     "output_type": "stream",
     "text": [
      "name Vamsy\n",
      "age 19\n",
      "CGPA 8.15\n"
     ]
    }
   ],
   "source": [
    "for i in b:\n",
    "    print(i,b[i])"
   ]
  },
  {
   "cell_type": "code",
   "execution_count": 32,
   "id": "4bf0ec63-c156-4f02-ba21-4808e2175ee9",
   "metadata": {},
   "outputs": [
    {
     "data": {
      "text/plain": [
       "dict_keys(['name', 'age', 'CGPA'])"
      ]
     },
     "execution_count": 32,
     "metadata": {},
     "output_type": "execute_result"
    }
   ],
   "source": [
    "b.keys()"
   ]
  },
  {
   "cell_type": "code",
   "execution_count": 33,
   "id": "4a4f0a03-0196-4f62-bbea-6104de784cc8",
   "metadata": {},
   "outputs": [
    {
     "data": {
      "text/plain": [
       "dict_values(['Vamsy', 19, 8.15])"
      ]
     },
     "execution_count": 33,
     "metadata": {},
     "output_type": "execute_result"
    }
   ],
   "source": [
    "b.values()"
   ]
  },
  {
   "cell_type": "markdown",
   "id": "fc9fe771-eef4-42f8-b0c2-ea32c641e926",
   "metadata": {},
   "source": [
    "### Lambda Expressions in Python"
   ]
  },
  {
   "cell_type": "code",
   "execution_count": 34,
   "id": "63c13549-13b3-41cc-81f8-79f44cef1097",
   "metadata": {},
   "outputs": [],
   "source": [
    "var=lambda:print(\"This is my first lambda example\")"
   ]
  },
  {
   "cell_type": "code",
   "execution_count": 35,
   "id": "54558f78-3c7d-4fc3-9a02-8d78b9108844",
   "metadata": {},
   "outputs": [
    {
     "data": {
      "text/plain": [
       "function"
      ]
     },
     "execution_count": 35,
     "metadata": {},
     "output_type": "execute_result"
    }
   ],
   "source": [
    "type(var)"
   ]
  },
  {
   "cell_type": "code",
   "execution_count": 36,
   "id": "7b0f3312-b27b-48a5-ba95-53bb7eada6c6",
   "metadata": {},
   "outputs": [
    {
     "name": "stdout",
     "output_type": "stream",
     "text": [
      "This is my first lambda example\n"
     ]
    }
   ],
   "source": [
    "var()"
   ]
  },
  {
   "cell_type": "code",
   "execution_count": 37,
   "id": "1e10c739-6362-4b25-ba27-7b7efcf0575f",
   "metadata": {},
   "outputs": [],
   "source": [
    "var1=lambda x:x**5"
   ]
  },
  {
   "cell_type": "code",
   "execution_count": 38,
   "id": "21de2ea6-d946-4c05-910f-01c147aa270b",
   "metadata": {},
   "outputs": [
    {
     "data": {
      "text/plain": [
       "32"
      ]
     },
     "execution_count": 38,
     "metadata": {},
     "output_type": "execute_result"
    }
   ],
   "source": [
    "var1(2)"
   ]
  },
  {
   "cell_type": "code",
   "execution_count": 39,
   "id": "13b2df9e-ea93-4108-8c9c-400e071970d2",
   "metadata": {},
   "outputs": [],
   "source": [
    "even=lambda num:print(\"it is even\") if num%2==0 else print(\"it is odd\")"
   ]
  },
  {
   "cell_type": "code",
   "execution_count": 40,
   "id": "59472f2a-1f06-4df1-bd49-1784c8bda855",
   "metadata": {},
   "outputs": [
    {
     "name": "stdout",
     "output_type": "stream",
     "text": [
      "it is even\n"
     ]
    }
   ],
   "source": [
    "even(32)"
   ]
  },
  {
   "cell_type": "code",
   "execution_count": 41,
   "id": "d3ba5acc-e654-4e04-b03f-f1ad228435a1",
   "metadata": {},
   "outputs": [
    {
     "name": "stdout",
     "output_type": "stream",
     "text": [
      "it is odd\n"
     ]
    }
   ],
   "source": [
    "even(55)"
   ]
  },
  {
   "cell_type": "code",
   "execution_count": 42,
   "id": "95a3c4a4-1f67-42b9-9bf6-fa3bc33fadd8",
   "metadata": {},
   "outputs": [],
   "source": [
    "demo=lambda a,b:(a+b,a-b,a*b)"
   ]
  },
  {
   "cell_type": "code",
   "execution_count": 43,
   "id": "128e1ce8-c7af-4ce8-b168-59cd4e7e19a0",
   "metadata": {},
   "outputs": [
    {
     "data": {
      "text/plain": [
       "(6, -2, 8)"
      ]
     },
     "execution_count": 43,
     "metadata": {},
     "output_type": "execute_result"
    }
   ],
   "source": [
    "demo(2,4)"
   ]
  },
  {
   "cell_type": "markdown",
   "id": "8d20d06c-3a59-44a2-b254-7a41e0c40234",
   "metadata": {},
   "source": [
    "### Functions"
   ]
  },
  {
   "cell_type": "code",
   "execution_count": 46,
   "id": "099cf4e8-43aa-4bf6-8ac2-b78e0a3c508b",
   "metadata": {},
   "outputs": [],
   "source": [
    "def demo():\n",
    "    print(\"This is my first user defined function\")"
   ]
  },
  {
   "cell_type": "code",
   "execution_count": 47,
   "id": "cf6a6d32-97d2-44f4-b178-275a88af1bb5",
   "metadata": {},
   "outputs": [
    {
     "name": "stdout",
     "output_type": "stream",
     "text": [
      "This is my first user defined function\n"
     ]
    }
   ],
   "source": [
    "demo()"
   ]
  },
  {
   "cell_type": "code",
   "execution_count": 48,
   "id": "c13f7c3f-c131-4e57-9c21-8008c91920ed",
   "metadata": {},
   "outputs": [],
   "source": [
    "def sum(a,b):\n",
    "    print(\"Sum of {} and {} is {}\".format(a,b,a+b))"
   ]
  },
  {
   "cell_type": "code",
   "execution_count": 49,
   "id": "012e4929-c6ee-4fc2-a281-0e20762617c2",
   "metadata": {},
   "outputs": [
    {
     "name": "stdout",
     "output_type": "stream",
     "text": [
      "Sum of 10 and 6 is 16\n"
     ]
    }
   ],
   "source": [
    "sum(10,6)"
   ]
  },
  {
   "cell_type": "code",
   "execution_count": 50,
   "id": "36418d43-3226-4877-bbde-ad08f88dda1d",
   "metadata": {},
   "outputs": [],
   "source": [
    "def prime(a):\n",
    "    flag=True\n",
    "    for i in range(2,a):\n",
    "        if a%i==0:\n",
    "            flag=False\n",
    "            break\n",
    "    if flag:\n",
    "         print(a,end=\" \")"
   ]
  },
  {
   "cell_type": "code",
   "execution_count": 51,
   "id": "e60671e6-33d8-439d-83e9-4e2c60a689ef",
   "metadata": {},
   "outputs": [
    {
     "name": "stdout",
     "output_type": "stream",
     "text": [
      "1 2 3 5 7 11 13 17 19 23 29 31 37 41 43 47 53 59 61 67 71 73 79 83 89 97 "
     ]
    }
   ],
   "source": [
    "for i in range(1,100):\n",
    "    prime(i)"
   ]
  },
  {
   "cell_type": "code",
   "execution_count": 52,
   "id": "7bc1cfce-2e3e-4388-bc7c-f1c07e424371",
   "metadata": {},
   "outputs": [],
   "source": [
    "#check if number is strong\n",
    "def strong(a):\n",
    "    s=0\n",
    "    n=a\n",
    "    while(n>0):\n",
    "        d=n%10\n",
    "        s+=factorial(d)\n",
    "        n//=10\n",
    "    if a==s:\n",
    "        print(a,\"is a strong number\")\n",
    "    else:\n",
    "        print(a,\"is not a strong number\")\n",
    "def factorial(n):\n",
    "    if n==0 or n==1:\n",
    "        return 1\n",
    "    else:\n",
    "        return n*factorial(n-1)"
   ]
  },
  {
   "cell_type": "code",
   "execution_count": 53,
   "id": "d7f432bb-0d70-4983-8c80-a64bc5e8bc12",
   "metadata": {},
   "outputs": [
    {
     "name": "stdout",
     "output_type": "stream",
     "text": [
      "145 is a strong number\n"
     ]
    }
   ],
   "source": [
    "strong(145)"
   ]
  },
  {
   "cell_type": "markdown",
   "id": "2e221890-90ba-4dcc-a9f6-90a66045a7bd",
   "metadata": {},
   "source": [
    "### Classes and Objects"
   ]
  },
  {
   "cell_type": "code",
   "execution_count": 54,
   "id": "a3eba5dc-56b6-4c8d-b6dc-e86fb999b297",
   "metadata": {},
   "outputs": [],
   "source": [
    "class Dog:\n",
    "    name=\"German Shepherd\"\n",
    "    price=20000\n",
    "    color=\"brown\"\n",
    "    def bark():\n",
    "        print(\"Dog is barking\")\n",
    "    def bite():\n",
    "        print(\"Dog will bite\")"
   ]
  },
  {
   "cell_type": "code",
   "execution_count": 55,
   "id": "bc712ed8-3bef-4869-8909-94adc2b9fea5",
   "metadata": {},
   "outputs": [],
   "source": [
    "demo=Dog()"
   ]
  },
  {
   "cell_type": "code",
   "execution_count": 56,
   "id": "bcca67ed-0248-477e-af6b-8a8fa612fcce",
   "metadata": {},
   "outputs": [
    {
     "data": {
      "text/plain": [
       "__main__.Dog"
      ]
     },
     "execution_count": 56,
     "metadata": {},
     "output_type": "execute_result"
    }
   ],
   "source": [
    "type(demo)"
   ]
  },
  {
   "cell_type": "code",
   "execution_count": 57,
   "id": "1727abc8-058d-4b60-949b-828d148b09a2",
   "metadata": {},
   "outputs": [
    {
     "data": {
      "text/plain": [
       "('German Shepherd', 20000, 'brown')"
      ]
     },
     "execution_count": 57,
     "metadata": {},
     "output_type": "execute_result"
    }
   ],
   "source": [
    "demo.name,demo.price,demo.color"
   ]
  },
  {
   "cell_type": "code",
   "execution_count": 58,
   "id": "48780007-eb94-4a34-8f6e-5c8722c077d9",
   "metadata": {},
   "outputs": [
    {
     "ename": "TypeError",
     "evalue": "Dog.bark() takes 0 positional arguments but 1 was given",
     "output_type": "error",
     "traceback": [
      "\u001b[1;31m---------------------------------------------------------------------------\u001b[0m",
      "\u001b[1;31mTypeError\u001b[0m                                 Traceback (most recent call last)",
      "Cell \u001b[1;32mIn[58], line 1\u001b[0m\n\u001b[1;32m----> 1\u001b[0m demo\u001b[38;5;241m.\u001b[39mbark()\n",
      "\u001b[1;31mTypeError\u001b[0m: Dog.bark() takes 0 positional arguments but 1 was given"
     ]
    }
   ],
   "source": [
    "demo.bark()"
   ]
  },
  {
   "cell_type": "code",
   "execution_count": 59,
   "id": "5f5ab796-2adc-4099-acb1-5dd88efeff99",
   "metadata": {},
   "outputs": [],
   "source": [
    "class Dog1:\n",
    "    name=\"German Shepherd\"\n",
    "    price=20000\n",
    "    color=\"brown\"\n",
    "    def bark(self):\n",
    "        print(\"Dog is barking\")\n",
    "    def bite(self):\n",
    "        print(\"Dog will bite\")"
   ]
  },
  {
   "cell_type": "code",
   "execution_count": 60,
   "id": "e88ce856-b136-4192-a54a-6be94f59b167",
   "metadata": {},
   "outputs": [],
   "source": [
    "demo1=Dog1()"
   ]
  },
  {
   "cell_type": "code",
   "execution_count": 61,
   "id": "a2e9c2eb-e78a-4fea-83b3-6b3415171339",
   "metadata": {},
   "outputs": [
    {
     "name": "stdout",
     "output_type": "stream",
     "text": [
      "Dog is barking\n"
     ]
    }
   ],
   "source": [
    "demo1.bark()"
   ]
  },
  {
   "cell_type": "code",
   "execution_count": 62,
   "id": "5208652d-3bd4-4df6-b239-3cc98c15590b",
   "metadata": {},
   "outputs": [
    {
     "name": "stdout",
     "output_type": "stream",
     "text": [
      "Dog will bite\n"
     ]
    }
   ],
   "source": [
    "demo1.bite()"
   ]
  },
  {
   "cell_type": "code",
   "execution_count": 63,
   "id": "3dcd79e3-98d7-4545-9031-511beb6e0003",
   "metadata": {},
   "outputs": [],
   "source": [
    "class Car:\n",
    "    color=\"\"\n",
    "    price=0\n",
    "    model=\"\"\n",
    "    engine=\"\"\n",
    "    size=0\n",
    "    def drive(self):\n",
    "        print(\"I am driving the car\")\n",
    "    def park(self):\n",
    "        print(\"The car is parked in parking lot\")\n",
    "    def start(self):\n",
    "        print(\"This car starts immediately\")\n",
    "    def stop(self):\n",
    "        print(\"I stopped driving\")"
   ]
  },
  {
   "cell_type": "code",
   "execution_count": 64,
   "id": "958359e0-84cd-4059-bc5d-2072365f3eee",
   "metadata": {},
   "outputs": [],
   "source": [
    "x=Car()\n",
    "x.color=\"gray\"\n",
    "x.price=100000\n",
    "x.model=\"AL3\"\n",
    "x.engine=\"XYZ\"\n",
    "x.size=10"
   ]
  },
  {
   "cell_type": "code",
   "execution_count": 65,
   "id": "df169083-d541-4b8b-831b-9a84d9ad0593",
   "metadata": {},
   "outputs": [
    {
     "data": {
      "text/plain": [
       "('gray', 'XYZ', 'AL3', 100000, 10)"
      ]
     },
     "execution_count": 65,
     "metadata": {},
     "output_type": "execute_result"
    }
   ],
   "source": [
    "x.color,x.engine,x.model,x.price,x.size"
   ]
  },
  {
   "cell_type": "code",
   "execution_count": 66,
   "id": "e1f35347-5c9b-4351-921a-b933c0ed368e",
   "metadata": {},
   "outputs": [
    {
     "name": "stdout",
     "output_type": "stream",
     "text": [
      "I am driving the car\n"
     ]
    }
   ],
   "source": [
    "x.drive()"
   ]
  },
  {
   "cell_type": "code",
   "execution_count": null,
   "id": "df655117-1f91-4dd0-85c3-49fb578e7c40",
   "metadata": {},
   "outputs": [],
   "source": []
  }
 ],
 "metadata": {
  "kernelspec": {
   "display_name": "Python 3 (ipykernel)",
   "language": "python",
   "name": "python3"
  },
  "language_info": {
   "codemirror_mode": {
    "name": "ipython",
    "version": 3
   },
   "file_extension": ".py",
   "mimetype": "text/x-python",
   "name": "python",
   "nbconvert_exporter": "python",
   "pygments_lexer": "ipython3",
   "version": "3.11.7"
  }
 },
 "nbformat": 4,
 "nbformat_minor": 5
}
