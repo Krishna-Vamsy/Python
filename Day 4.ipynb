{
 "cells": [
  {
   "cell_type": "code",
   "execution_count": 1,
   "id": "728eeba5-1db3-4476-9321-3a6671060a82",
   "metadata": {},
   "outputs": [
    {
     "name": "stdout",
     "output_type": "stream",
     "text": [
      "Blu is 10 years old\n",
      "Woo is 15 years old\n"
     ]
    }
   ],
   "source": [
    "class Parrot:\n",
    "    name = \"\"\n",
    "    age = 0\n",
    "\n",
    "parrot1 = Parrot()\n",
    "parrot1.name = \"Blu\"\n",
    "parrot1.age = 10\n",
    "\n",
    "parrot2 = Parrot()\n",
    "parrot2.name = \"Woo\"\n",
    "parrot2.age = 15\n",
    "\n",
    "print(f\"{parrot1.name} is {parrot1.age} years old\")\n",
    "print(f\"{parrot2.name} is {parrot2.age} years old\")"
   ]
  },
  {
   "cell_type": "code",
   "execution_count": 2,
   "id": "75812e45-dabc-40b4-85d0-72abe93b2e5b",
   "metadata": {},
   "outputs": [
    {
     "name": "stdout",
     "output_type": "stream",
     "text": [
      "I can eat!\n",
      "I can sleep!\n",
      "I can bark! Woof woof!!\n"
     ]
    }
   ],
   "source": [
    "# base class\n",
    "class Animal:\n",
    "    def eat(self):\n",
    "        print( \"I can eat!\")\n",
    "    def sleep(self):\n",
    "        print(\"I can sleep!\")\n",
    "\n",
    "# derived class\n",
    "class Dog(Animal):\n",
    "    def bark(self):\n",
    "        print(\"I can bark! Woof woof!!\")\n",
    "\n",
    "dog1 = Dog()\n",
    "dog1.eat()\n",
    "dog1.sleep()\n",
    "dog1.bark();"
   ]
  },
  {
   "cell_type": "code",
   "execution_count": 3,
   "id": "73aa88db-9829-4af7-9b96-a83dfdf8df3f",
   "metadata": {},
   "outputs": [
    {
     "name": "stdout",
     "output_type": "stream",
     "text": [
      "Rendering Square...\n",
      "Rendering Circle...\n"
     ]
    }
   ],
   "source": [
    "class Polygon:\n",
    "    def render(self):\n",
    "        print(\"Rendering Polygon...\")\n",
    "\n",
    "class Square(Polygon):\n",
    "    def render(self):\n",
    "        print(\"Rendering Square...\")\n",
    "\n",
    "class Circle(Polygon):\n",
    "    def render(self):\n",
    "        print(\"Rendering Circle...\")\n",
    "    \n",
    "# create an object of Square\n",
    "s1 = Square()\n",
    "s1.render()\n",
    "\n",
    "# create an object of Circle\n",
    "c1 = Circle()\n",
    "c1.render()"
   ]
  },
  {
   "cell_type": "code",
   "execution_count": 4,
   "id": "9c8a224d-2f8c-46ec-b8e9-3ba2fe6069ff",
   "metadata": {},
   "outputs": [],
   "source": [
    "class Car:\n",
    "    def __init__(self,company,price):\n",
    "        self.company=company\n",
    "        self.price=price\n",
    "    def drive(self):\n",
    "        print(\"I am driving a car.\")\n",
    "class Bike:\n",
    "    def __init__(self,company,price):\n",
    "        self.company=company\n",
    "        self.price=price\n",
    "    def drive(self):\n",
    "        print(\"I am driving a bike.\")\n",
    "class Plane:\n",
    "    def __init__(self,company,price):\n",
    "        self.company=company\n",
    "        self.price=price\n",
    "    def drive(self):\n",
    "        print(\"I am flying a plane.\")"
   ]
  },
  {
   "cell_type": "code",
   "execution_count": 5,
   "id": "9ddde20c-f39f-4e95-bd2c-4a154c13c1ca",
   "metadata": {},
   "outputs": [
    {
     "name": "stdout",
     "output_type": "stream",
     "text": [
      "Maruthi 700000\n",
      "I am driving a car.\n",
      "\n",
      "Honda 100000\n",
      "I am driving a bike.\n",
      "\n",
      "SpiceJet 10000000\n",
      "I am flying a plane.\n",
      "\n"
     ]
    }
   ],
   "source": [
    "for i in (Car(\"Maruthi\",700000),Bike(\"Honda\",100000),Plane(\"SpiceJet\",10000000)):\n",
    "    print(i.company,i.price)#where i is the object pointing to each and every class.\n",
    "    i.drive()\n",
    "    print()"
   ]
  },
  {
   "cell_type": "code",
   "execution_count": 6,
   "id": "e6c7503e-8a8a-4a96-97b9-1a0740473a01",
   "metadata": {},
   "outputs": [
    {
     "name": "stdout",
     "output_type": "stream",
     "text": [
      "I am in class A\n",
      "I am in class B\n"
     ]
    }
   ],
   "source": [
    "class A:\n",
    "    def f1(self):\n",
    "        print(\"I am in class A\")\n",
    "class B:\n",
    "    def f2(self):\n",
    "        print(\"I am in class B\")\n",
    "o1=A()\n",
    "o2=B()\n",
    "o1.f1()\n",
    "o2.f2()"
   ]
  },
  {
   "cell_type": "code",
   "execution_count": 7,
   "id": "ecf86085-8f2a-4de5-a056-b4c03c833b91",
   "metadata": {},
   "outputs": [
    {
     "name": "stdout",
     "output_type": "stream",
     "text": [
      "I am in class A\n",
      "I am in class B\n"
     ]
    }
   ],
   "source": [
    "#Single level inheritance\n",
    "class A:\n",
    "    def f1(self):\n",
    "        print(\"I am in class A\")\n",
    "class B(A):#class B inheriting class A,if we have multiple classes we can write A,B,---etc in bracket to indicate inheritance\n",
    "    def f2(self):\n",
    "        print(\"I am in class B\")\n",
    "o2=B()\n",
    "o2.f1()\n",
    "o2.f2()"
   ]
  },
  {
   "cell_type": "code",
   "execution_count": 9,
   "id": "6efb8d8b-9d25-4fd1-8c2c-9c8d629bc2bf",
   "metadata": {},
   "outputs": [
    {
     "name": "stdout",
     "output_type": "stream",
     "text": [
      "I am in class A\n",
      "I am in class B\n",
      "I am in class C\n"
     ]
    }
   ],
   "source": [
    "#Multiple inheritance\n",
    "class C:\n",
    "    def f3(self):\n",
    "        print(\"I am in class C\")\n",
    "class A:\n",
    "    def f1(self):\n",
    "        print(\"I am in class A\")        \n",
    "class B(A,C):\n",
    "    def f2(self):\n",
    "        print(\"I am in class B\")\n",
    "o2=B()\n",
    "o2.f1()\n",
    "o2.f2()\n",
    "o2.f3()"
   ]
  },
  {
   "cell_type": "code",
   "execution_count": 10,
   "id": "6453c03c-9530-4449-ab8f-64201452c44a",
   "metadata": {},
   "outputs": [
    {
     "name": "stdout",
     "output_type": "stream",
     "text": [
      "I am in RaceCar\n",
      "I am in Car\n",
      "I am in plane\n",
      "I am in boat\n",
      "I am in vehicle\n"
     ]
    }
   ],
   "source": [
    "class RaceCar:\n",
    "    def f1(self):\n",
    "        print(\"I am in RaceCar\")\n",
    "class Car(RaceCar):\n",
    "    def f2(self):\n",
    "        print(\"I am in Car\")\n",
    "class Plane:\n",
    "    def f3(self):\n",
    "        print(\"I am in plane\")\n",
    "class Boat:\n",
    "    def f4(self):\n",
    "        print(\"I am in boat\")\n",
    "class Vehicle(Car,Plane,Boat):\n",
    "    def f5(self):\n",
    "        print(\"I am in vehicle\")\n",
    "obj=Vehicle()\n",
    "obj.f1()\n",
    "obj.f2()\n",
    "obj.f3()\n",
    "obj.f4()\n",
    "obj.f5()"
   ]
  },
  {
   "cell_type": "code",
   "execution_count": 11,
   "id": "bf36b96a-4a82-401c-80a7-8c7bb93b19b4",
   "metadata": {},
   "outputs": [
    {
     "name": "stdout",
     "output_type": "stream",
     "text": [
      "I love to learn new things.\n"
     ]
    },
    {
     "data": {
      "text/plain": [
       "'Microsoft'"
      ]
     },
     "execution_count": 11,
     "metadata": {},
     "output_type": "execute_result"
    }
   ],
   "source": [
    "class Programmer:\n",
    "    companyName=\"Microsoft\"\n",
    "    def coding(self):\n",
    "        print(\"I love coding.\")\n",
    "class Dancer:\n",
    "    groupName=\"ABC\"\n",
    "    def dancing(self):\n",
    "        print(\"My friend love dancing.\")\n",
    "class Singer:\n",
    "    bandName=\"MNO\"\n",
    "    def singing(self):\n",
    "        print(\"Charan love singing.\")\n",
    "    def playGitar(self):\n",
    "        print(\"Karthik plays guitar well.\")\n",
    "class Person(Programmer,Dancer,Singer):\n",
    "    name=\"Tarun\"\n",
    "    designation=\"Student\"\n",
    "    def learn(self):\n",
    "        print(\"I love to learn new things.\")\n",
    "    def walk(self):\n",
    "        print(\"I go for walking daily.\")\n",
    "    def eat(self):\n",
    "        print(\"I love eating.\")\n",
    "obj3=Person()\n",
    "obj3.learn()\n",
    "obj3.companyName"
   ]
  },
  {
   "cell_type": "code",
   "execution_count": 12,
   "id": "67b35007-8bdc-4a97-84de-64792a14da9c",
   "metadata": {},
   "outputs": [],
   "source": [
    "#Multi level inheritance\n",
    "class Car:\n",
    "    def __init__(self,company,price):\n",
    "        self.company=company\n",
    "        self.price=price\n",
    "    def drive(self):\n",
    "        print(\"I am driving a car.\")\n",
    "class Bike(Car):\n",
    "    def __init__(self,company,price):\n",
    "        self.company=company\n",
    "        self.price=price\n",
    "        Car.__init__(self,company,price)\n",
    "    def drive(self):\n",
    "        print(\"I am driving a bike.\")\n",
    "class Plane(Bike):\n",
    "    def __init__(self,company,price):\n",
    "        self.company=company\n",
    "        self.price=price\n",
    "        Bike.__init__(self,company,price)\n",
    "    def drive(self):\n",
    "        print(\"I am flying a plane.\")"
   ]
  },
  {
   "cell_type": "code",
   "execution_count": 13,
   "id": "94c731b6-f62c-41f3-bed9-a61ee0967f69",
   "metadata": {},
   "outputs": [
    {
     "name": "stdout",
     "output_type": "stream",
     "text": [
      "I am flying a plane.\n"
     ]
    }
   ],
   "source": [
    "obj5=Plane(\"SpiceJet\",1000000)\n",
    "obj5.drive()#we are getting overridden (only last function )"
   ]
  },
  {
   "cell_type": "markdown",
   "id": "348c1b25-4c2f-4b49-922f-6dbf55ccf279",
   "metadata": {},
   "source": [
    "### Abstraction                                                                                                                                                                                                                                                                                                                                                                                                                                                                                                                                                                                        "
   ]
  },
  {
   "cell_type": "code",
   "execution_count": 14,
   "id": "d9775966-f0ae-4b34-bb16-8d18f0db9d49",
   "metadata": {},
   "outputs": [
    {
     "name": "stdout",
     "output_type": "stream",
     "text": [
      "abstract method\n",
      "concrete method\n"
     ]
    }
   ],
   "source": [
    "from abc import ABC, abstractmethod\n",
    "class democlass(ABC):\n",
    "   @abstractmethod\n",
    "   def method1(self):\n",
    "      print (\"abstract method\")\n",
    "      return\n",
    "   def method2(self):\n",
    "      print (\"concrete method\")\n",
    "\n",
    "class concreteclass(democlass):\n",
    "   def method1(self):\n",
    "      super().method1()\n",
    "      return\n",
    "      \n",
    "obj = concreteclass()\n",
    "obj.method1()\n",
    "obj.method2()"
   ]
  },
  {
   "cell_type": "markdown",
   "id": "b2db9a13-393e-4d6f-9a4a-94046dd7e6f4",
   "metadata": {},
   "source": [
    "### Encapsulation"
   ]
  },
  {
   "cell_type": "code",
   "execution_count": 16,
   "id": "8f7a8014-0064-44b2-a1a1-ca4a362d5b08",
   "metadata": {},
   "outputs": [
    {
     "name": "stdout",
     "output_type": "stream",
     "text": [
      "Name: Krishna marks: 25\n",
      "Name: Vamsy marks: 25\n"
     ]
    }
   ],
   "source": [
    "class Student:\n",
    "   def __init__(self, name=\"Krishna\", marks=50):\n",
    "      self.name = name\n",
    "      self.marks = marks\n",
    "\n",
    "s1 = Student()\n",
    "s2 = Student(\"Vamsy\", 25)\n",
    "\n",
    "print (\"Name: {} marks: {}\".format(s1.name, s2.marks))\n",
    "print (\"Name: {} marks: {}\".format(s2.name, s2.marks))"
   ]
  },
  {
   "cell_type": "code",
   "execution_count": null,
   "id": "822f165e-1621-4791-930a-36b45c7607e0",
   "metadata": {},
   "outputs": [],
   "source": []
  }
 ],
 "metadata": {
  "kernelspec": {
   "display_name": "Python 3 (ipykernel)",
   "language": "python",
   "name": "python3"
  },
  "language_info": {
   "codemirror_mode": {
    "name": "ipython",
    "version": 3
   },
   "file_extension": ".py",
   "mimetype": "text/x-python",
   "name": "python",
   "nbconvert_exporter": "python",
   "pygments_lexer": "ipython3",
   "version": "3.11.7"
  }
 },
 "nbformat": 4,
 "nbformat_minor": 5
}
